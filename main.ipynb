{
  "nbformat": 4,
  "nbformat_minor": 0,
  "metadata": {
    "colab": {
      "name": "lab5 Воротников.ipynb",
      "provenance": [],
      "collapsed_sections": [],
      "authorship_tag": "ABX9TyM9R1mtg+0/4zRFNcz76p8h",
      "include_colab_link": true
    },
    "kernelspec": {
      "name": "python3",
      "display_name": "Python 3"
    },
    "language_info": {
      "name": "python"
    }
  },
  "cells": [
    {
      "cell_type": "markdown",
      "metadata": {
        "id": "view-in-github",
        "colab_type": "text"
      },
      "source": [
        "<a href=\"https://colab.research.google.com/github/valerian720/gradient_algorythms_visualized/blob/main/main.ipynb\" target=\"_parent\"><img src=\"https://colab.research.google.com/assets/colab-badge.svg\" alt=\"Open In Colab\"/></a>"
      ]
    },
    {
      "cell_type": "markdown",
      "metadata": {
        "id": "HJx_h7mfMZsC"
      },
      "source": [
        "Требования к функциональности компьютерной программы\n",
        "\n",
        "В программе должны задаваться следующие настройки:\n",
        "  - целевая функция,\n",
        "  - значения параметров рассматриваемых алгоритмов (отдельно для каждого алгоритма),\n",
        "  -начальное приближение,\n",
        "  -максимальное количество шагов алгоритма.\n",
        "  -При каждом запуске программы должен строиться график, показывающий траекторию движения каждого из алгоритмов по ландшафту целевой функции, \n",
        "  -а также график, отображающий зависимость значения целевой функции от номера шага алгоритма."
      ]
    },
    {
      "cell_type": "code",
      "metadata": {
        "id": "59lANsdWM1mc"
      },
      "source": [
        "import math\n",
        "import numpy as np\n",
        "import matplotlib.ticker as tic\n",
        "from matplotlib import pyplot as plt"
      ],
      "execution_count": null,
      "outputs": []
    },
    {
      "cell_type": "code",
      "metadata": {
        "id": "waKo_04c9tDg"
      },
      "source": [
        "# 1. Функция Химмельблау\n",
        "def himmelblau(x, y):\n",
        "    return ((x**2 + y - 11)**2) + ((x + y**2 - 7)**2) \n",
        " \n",
        "def himmelblau_grad(x, y, grad_x): \n",
        "    if grad_x == True: \n",
        "        # Частная производная по х\n",
        "        out = 4*x*(x**2 + y - 11) + (2*x + 2*y**2 - 14)\n",
        "    else:     \n",
        "        # Частная производная y          \n",
        "        out = 2*x**2 + 4*y*(x + y**2 - 7) + 2*y - 22\n",
        "    return out\n",
        " \n",
        " \n",
        "# 2. Styblinski-Tank Function\n",
        "def styblinski_tank(x, y):\n",
        "    out = (x**4 - 16*x**2 + 5*x) + (y**4 - 16*y**2 + 5*y)\n",
        "    return 0.5 * out\n",
        " \n",
        "def ST_grad(x, y, grad_x):\n",
        "    if grad_x == True: \n",
        "        return 2*x**3 - 16*x + 2.5\n",
        "    else:             \n",
        "        return 2*y**3 - 16*y + 2.5\n",
        "    \n",
        " \n",
        "# 3. Функция Розенброка\n",
        "def rosenbrock(x, y): \n",
        "    return (1 - x)**2 + 100*(y - x**2)**2 \n",
        " \n",
        "def rosenbrock_grad(x, y, grad_x):\n",
        "    if grad_x == True: \n",
        "        return -400*x*(-x**2 + y) + 2*x - 2\n",
        "    else:           \n",
        "        return -200*x**2 + 200*y\n",
        " \n",
        " \n",
        "# 4. Функция Гольдман-Прайса\n",
        "def GdPr_function(x, y): \n",
        "    p1 = 1 + ((x + y + 1)**2) * (19 - 14*x + 3*x**2 - 14*y + 6*x*y + 3*y**2)\n",
        "    p2 = 30 + ((2*x - 3*y)**2) * (18 - 32*x + 12*x**2 + 48*y - 36*x*y + 27*y**2)\n",
        "    return p1 * p2\n",
        " \n",
        " \n",
        "def GdPr_grad(x, y, grad_x):\n",
        "    if grad_x == True: \n",
        "        return ((3*x**2 + 6*x*y - 14*x + 3*y**2 - 14*y + 19)*(x + y + 1)**2 + 1)*(4*(12*x**2 - 36*x*y - 32*x + 27*y**2 + 48*y + 18)*(2*x - 3*y) + (24*x - 36*y - 32)*(2*x - 3*y)**2) + (2*(3*x**2 + 6*x*y - 14*x + 3*y**2 - 14*y + 19)*(x + y + 1) + (6*x + 6*y - 14)*(x + y + 1)**2)*((12*x**2 - 36*x*y - 32*x + 27*y**2 + 48*y + 18)*(2*x - 3*y)**2 + 30)\n",
        "    else:           \n",
        "        return ((3*x**2 + 6*x*y - 14*x + 3*y**2 - 14*y + 19)*(x + y + 1)**2 + 1)*((2*x - 3*y)**2 * (-36*x + 54*y + 48) - 6*(2*x - 3*y) * (12*x**2 - 36*x*y - 32*x + 27*y**2 + 48*y + 18)) + (2*(3*x**2 + 6*x*y - 14*x + 3*y**2 - 14*y + 19)*(x + y + 1) + (6*x + 6*y - 14)*(x + y + 1)**2)*((12*x**2 - 36*x*y - 32*x + 27*y**2 + 48*y + 18)*(2*x - 3*y)**2 + 30)"
      ],
      "execution_count": null,
      "outputs": []
    },
    {
      "cell_type": "code",
      "metadata": {
        "id": "k6UkxgUd9tTE"
      },
      "source": [
        "def visualization(x1, x2, y, X1_list, X2_list):\n",
        "    fig,ax=plt.subplots(1,1)\n",
        "    cp = ax.contourf(x1, x2, y, 15)\n",
        " \n",
        "    fig.colorbar(cp) \n",
        "    fig.set_figwidth(12)\n",
        "    fig.set_figheight(9)\n",
        " \n",
        "    ax.set_xlabel(\"x1\", fontsize=\"12\")\n",
        "    ax.set_ylabel(\"x2\", fontsize=\"12\")\n",
        "    ax.grid()\n",
        " \n",
        "    labels = ['GD', 'MGD', 'RMSProp', 'Adam']\n",
        "    colors = ['r', 'lime', 'cornflowerblue', 'orange']\n",
        " \n",
        "    for item1, item2, color, l in zip(X1_list, X2_list, colors, labels):\n",
        "        ax.plot(item1, item2, linewidth=\"3\", color=color, label=l)\n",
        " \n",
        "    ax.scatter(X1_list[0][0], X2_list[0][0], linewidth=\"5\", color='r')\n",
        "    ax.legend()\n",
        "    plt.show()"
      ],
      "execution_count": null,
      "outputs": []
    },
    {
      "cell_type": "code",
      "metadata": {
        "id": "NYoShmnQ9tik"
      },
      "source": [
        "def gradient_clipping(grad_x, grad_y, norma):\n",
        "    return (norma / math.sqrt(grad_x**2 + grad_y**2)) * norma\n",
        " \n",
        "def SGD(x1, x2, norma = 1.1, lim = 0.001):\n",
        "    x1_list = []\n",
        "    x2_list = []\n",
        "    \n",
        "    x1_list.append(x1)\n",
        "    x2_list.append(x2)\n",
        " \n",
        " \n",
        "    for i in range(era_count): \n",
        "        stepX = rate * func_grad(x1, x2, True)\n",
        "        stepY = rate * func_grad(x1, x2, False)\n",
        " \n",
        "        if stepX >= norma: stepX = gradient_clipping(stepX, stepY, lim)\n",
        "        if stepX <= -norma: stepX = -gradient_clipping(stepX, stepY, lim)\n",
        " \n",
        "        if stepY >= norma: stepY = gradient_clipping(stepX, stepY, lim)\n",
        "        if stepY <= -norma: stepY = -gradient_clipping(stepX, stepY, lim)\n",
        " \n",
        "        x1 -= stepX\n",
        "        x2 -= stepY\n",
        " \n",
        "        x1_list.append(round(x1, 4))\n",
        "        x2_list.append(round(x2, 4))\n",
        " \n",
        "    return np.array(x1_list), np.array(x2_list)"
      ],
      "execution_count": null,
      "outputs": []
    },
    {
      "cell_type": "code",
      "metadata": {
        "id": "qHfTd3C890C_"
      },
      "source": [
        "def impulse_SGD(x1, x2, beta, norma = 1, lim = 0.001):\n",
        "    V_x1 = 0\n",
        "    V_x2 = 0\n",
        " \n",
        "    x1_list = []\n",
        "    x2_list = []\n",
        "    \n",
        "    x1_list.append(x1)\n",
        "    x2_list.append(x2)\n",
        " \n",
        "    for i in range(era_count): \n",
        "        V_x1 = beta * V_x1 + (1 - beta) * func_grad(x1, x2, True)\n",
        "        V_x2 = beta * V_x2 + (1 - beta) * func_grad(x1, x2, False)\n",
        " \n",
        "        stepX = rate * V_x1\n",
        "        stepY = rate * V_x2\n",
        " \n",
        "        if stepX >= norma: stepX = gradient_clipping(stepX, stepY, lim)\n",
        "        if stepX <= -norma: stepX = -gradient_clipping(stepX, stepY, lim)\n",
        " \n",
        "        if stepY >= norma: stepY = gradient_clipping(stepX, stepY, lim)\n",
        "        if stepY <= -norma: stepY = -gradient_clipping(stepX, stepY, lim)\n",
        "        \n",
        "        x1 -= stepX\n",
        "        x2 -= stepY\n",
        " \n",
        "        x1_list.append(round(x1, 4))\n",
        "        x2_list.append(round(x2, 4))\n",
        " \n",
        "    return np.array(x1_list), np.array(x2_list)"
      ],
      "execution_count": null,
      "outputs": []
    },
    {
      "cell_type": "code",
      "metadata": {
        "id": "XVeAAWK590Rr"
      },
      "source": [
        "def RMSProp(x1, x2, beta):\n",
        "    S_x1 = 0\n",
        "    S_x2 = 0\n",
        " \n",
        "    x1_list = []\n",
        "    x2_list = []\n",
        " \n",
        "    x1_list.append(x1)\n",
        "    x2_list.append(x2)\n",
        " \n",
        "    for i in range(era_count): \n",
        "        S_x1 = beta * S_x1 + ((1 - beta) * (func_grad(x1, x2, True))**2)\n",
        "        S_x2 = beta * S_x2 + ((1 - beta) * (func_grad(x1, x2, False))**2)\n",
        " \n",
        "        step_x1 = rate * (func_grad(x1, x2, True) / (math.sqrt(S_x1) + 0.0001))\n",
        "        step_x2 = rate * (func_grad(x1, x2, False) / (math.sqrt(S_x2) + 0.0001))\n",
        " \n",
        "        x1 -= step_x1\n",
        "        x2 -= step_x2\n",
        " \n",
        "        x1_list.append(x1)\n",
        "        x2_list.append(x2)\n",
        " \n",
        "    return np.array(x1_list), np.array(x2_list)"
      ],
      "execution_count": null,
      "outputs": []
    },
    {
      "cell_type": "code",
      "metadata": {
        "id": "MWHO5KQs90df"
      },
      "source": [
        "def Adam(x1, x2, beta1, beta2):\n",
        "    S_x1 = 0\n",
        "    S_x2 = 0\n",
        " \n",
        "    V_x1 = 0\n",
        "    V_x2 = 0\n",
        " \n",
        "    x1_list = []\n",
        "    x2_list = []\n",
        " \n",
        "    x1_list.append(x1)\n",
        "    x2_list.append(x2)\n",
        " \n",
        "    for i in range(era_count): \n",
        "        V_x1 = beta1 * V_x1 + (1 - beta1) * func_grad(x1, x2, True)\n",
        "        V_x2 = beta1 * V_x2 + (1 - beta1) * func_grad(x1, x2, False)\n",
        " \n",
        "        S_x1 = beta2 * S_x1 + (1 - beta2) * (func_grad(x1, x2, True))**2\n",
        "        S_x2 = beta2 * S_x2 + (1 - beta2) * (func_grad(x1, x2, False))**2\n",
        " \n",
        "        V_x1_corr = V_x1 / (1 - beta1 ** (i+1))\n",
        "        V_x2_corr = V_x2 / (1 - beta1 ** (i+1))\n",
        " \n",
        "        S_x1_corr = S_x1 / (1 - beta2 ** (i+1))\n",
        "        S_x2_corr = S_x2 / (1 - beta2 ** (i+1))\n",
        " \n",
        "        step_x1 = rate * (V_x1_corr / (math.sqrt(S_x1_corr) + 0.001))\n",
        "        step_x2 = rate * (V_x2_corr / (math.sqrt(S_x1_corr) + 0.001))\n",
        " \n",
        "        # print(x1, x2, step_x1, step_x2)\n",
        " \n",
        "        x1 -= step_x1\n",
        "        x2 -= step_x2\n",
        " \n",
        "        x1_list.append(x1)\n",
        "        x2_list.append(x2)\n",
        " \n",
        "    return np.array(x1_list), np.array(x2_list)"
      ],
      "execution_count": null,
      "outputs": []
    },
    {
      "cell_type": "code",
      "metadata": {
        "id": "6gbMlxIJ93pT",
        "cellView": "form"
      },
      "source": [
        "#@markdown **Выбор функции**\n",
        "num_of_func_selection = \"1. \\u0425\\u0438\\u043C\\u043C\\u0435\\u043B\\u044C\\u0431\\u043B\\u0430\\u0443\" #@param [\"1. \\u0425\\u0438\\u043C\\u043C\\u0435\\u043B\\u044C\\u0431\\u043B\\u0430\\u0443\", \"2. \\u0421\\u0442\\u044B\\u0431\\u0438\\u043D\\u0441\\u043A\\u043E\\u0433\\u043E-\\u0422\\u0430\\u043D\\u0433\\u0430\", \"3. \\u0420\\u043E\\u0437\\u0435\\u043D\\u0431\\u0440\\u043E\\u043A\\u0430\", \"4. \\u0413\\u043E\\u043B\\u044C\\u0434\\u043C\\u0430\\u043D\\u0430-\\u041F\\u0440\\u0430\\u0439\\u0441\\u0430\"]\n",
        "num_of_func = int(num_of_func_selection[0])\n",
        " \n",
        "def func_grad(x, y, grad_x):\n",
        "    if num_of_func == 1: \n",
        "        return himmelblau_grad(x, y, grad_x)\n",
        "    elif num_of_func == 2:\n",
        "        return ST_grad(x, y, grad_x)\n",
        "    elif num_of_func == 3:\n",
        "        return rosenbrock_grad(x, y, grad_x)\n",
        "    elif num_of_func == 4:\n",
        "        return GdPr_grad(x, y, grad_x)\n",
        " \n",
        " \n",
        "def use_func(x, y):\n",
        "    if num_of_func == 1: \n",
        "        return himmelblau(x, y)\n",
        "    elif num_of_func == 2: \n",
        "        return styblinski_tank(x, y)\n",
        "    elif num_of_func == 3:\n",
        "        return rosenbrock(x, y)\n",
        "    elif num_of_func == 4:\n",
        "        return GdPr_function(x, y)\n",
        " \n",
        "if num_of_func == 1: \n",
        "    min = -5\n",
        "    max =  5\n",
        "elif num_of_func == 2: \n",
        "    min = -5\n",
        "    max =  5\n",
        "elif num_of_func == 3:\n",
        "    min = -2\n",
        "    max =  2\n",
        "elif num_of_func == 4:\n",
        "    min = -1.5\n",
        "    max =  0.5\n",
        " \n",
        "# Для построения ландшафта функции\n",
        "coord_x1, coord_x2 = np.meshgrid(np.arange(min, max+1), np.arange(min, max+1))\n",
        "target_func_rez = use_func(coord_x1, coord_x2)\n",
        " \n",
        " \n",
        "#@title ##**Параметры работы** { run: \"auto\" }\n",
        "#@markdown **Начальная точка (х1, х2)**\n",
        "x1 = -3.3 #@param {type:\"slider\", min:-5, max:5, step:0.1}\n",
        "x2 = 3.2 #@param {type:\"slider\", min:-5, max:5, step:0.1}\n",
        "#@markdown \n",
        " \n",
        "# #@markdown **Размер ландшафта**\n",
        "# min = -5#@param {type:\"number\"}\n",
        "# max =  5#@param {type:\"number\"}\n",
        " \n",
        "#@markdown **Параметры MGD, RMSProp** \n",
        "era_count =  400#@param {type:\"integer\"}\n",
        "beta = 0.9 #@param {type:\"number\"}\n",
        "rate =  0.01#@param {type:\"number\"}\n",
        " \n",
        "#@markdown **Для алгоритма Adam**\n",
        "beta1 = 0.9#@param {type:\"number\"}\n",
        "beta2 = 0.999 #@param {type:\"number\"}"
      ],
      "execution_count": null,
      "outputs": []
    },
    {
      "cell_type": "code",
      "metadata": {
        "colab": {
          "base_uri": "https://localhost:8080/"
        },
        "id": "vBIUKJw8ON7w",
        "outputId": "a73ac93f-a37a-4f99-aab8-201a771c1f60"
      },
      "source": [
        "# print params\n",
        "print(f\"{num_of_func_selection},начальная точка: [{x1}, {x2}], Параметры MGD, RMSProp: [era_count:{era_count}, beta: {beta}, rate: {rate}], Параметры Adam: [beta1: {beta1}, beta2: {beta2}]\")"
      ],
      "execution_count": null,
      "outputs": [
        {
          "output_type": "stream",
          "name": "stdout",
          "text": [
            "1. Химмельблау,начальная точка: [-3.3, 3.2], Параметры MGD, RMSProp: [era_count:400, beta: 0.9, rate: 0.01], Параметры Adam: [beta1: 0.9, beta2: 0.999]\n"
          ]
        }
      ]
    },
    {
      "cell_type": "code",
      "metadata": {
        "colab": {
          "base_uri": "https://localhost:8080/",
          "height": 554
        },
        "id": "1YvbQCBm930c",
        "outputId": "306776a7-dfd5-4ea9-8d79-d43be421e809"
      },
      "source": [
        "# Применение методов отптимизации\n",
        "gd_x1, gd_x2 = SGD(x1, x2)\n",
        "mgd_x1, mgd_x2 = impulse_SGD(x1, x2, beta)\n",
        "rms_x1, rms_x2 = RMSProp(x1, x2, beta)\n",
        "ad_x1, ad_x2 = Adam(x1, x2, beta1, beta2)\n",
        " \n",
        "result_x1 = [gd_x1, mgd_x1, rms_x1, ad_x1]\n",
        "result_x2 = [gd_x2, mgd_x2, rms_x2, ad_x2]\n",
        " \n",
        "visualization(coord_x1, coord_x2, target_func_rez, result_x1, result_x2)"
      ],
      "execution_count": null,
      "outputs": [
        {
          "output_type": "display_data",
          "data": {
            "image/png": "[encoded data removed]",
            "text/plain": [
              "<Figure size 864x648 with 2 Axes>"
            ]
          },
          "metadata": {
            "needs_background": "light"
          }
        }
      ]
    },
    {
      "cell_type": "code",
      "metadata": {
        "colab": {
          "base_uri": "https://localhost:8080/",
          "height": 341
        },
        "id": "BxT4ZKtD94CT",
        "outputId": "9ab60117-95e5-4907-bb63-50c009a1122f"
      },
      "source": [
        "x = np.arange(era_count + 1)\n",
        "fig, ax = plt.subplots()\n",
        "fig.set_figwidth(15)\n",
        "fig.set_figheight(5)\n",
        " \n",
        "\n",
        "ax.set_xlabel(\"Количество эпох\", fontsize=14)\n",
        "ax.set_ylabel(\"Значение целевой функции\", fontsize=14)\n",
        " \n",
        "ax.plot(x, use_func(gd_x1, gd_x2), color='red', label=\"GD\", linewidth='3')\n",
        "ax.plot(x, use_func(mgd_x1, mgd_x2), color='lime', label=\"MGD\", linewidth='3')\n",
        "ax.plot(x, use_func(rms_x1, rms_x2), color='blue', label=\"RMSProp\", linewidth='3')\n",
        "ax.plot(x, use_func(ad_x1, ad_x2), color='orange', label=\"Adam\", linewidth='3')\n",
        "ax.legend()\n",
        "ax.grid()"
      ],
      "execution_count": null,
      "outputs": [
        {
          "output_type": "display_data",
          "data": {
            "image/png": "[encoded data removed]",
            "text/plain": [
              "<Figure size 1080x360 with 1 Axes>"
            ]
          },
          "metadata": {
            "needs_background": "light"
          }
        }
      ]
    }
  ]
}